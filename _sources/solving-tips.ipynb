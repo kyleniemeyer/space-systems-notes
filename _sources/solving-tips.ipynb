{
 "cells": [
  {
   "cell_type": "markdown",
   "metadata": {},
   "source": [
    "# Problem-solving tips\n",
    "\n",
    "Many problems we face will require common solution approaches involving solving equations (i.e., finding the root of an equation) \n",
    "and integrating systems of ordinary differential equations (ODEs).\n",
    "This module shows some tips and strategies, and examples, for doing this."
   ]
  },
  {
   "cell_type": "markdown",
   "metadata": {},
   "source": [
    "## Solving equations numerically\n",
    "\n",
    "In many problems we need to solve an equation. For example, let's think about solving $f(x) = g$.\n",
    "This means we want to find the value $x$ that satisfies this equation.\n",
    "One way to to think about this is that we want find the root of $f(x) - g = 0$.\n",
    "\n",
    "When the equation is complicated, nonlinear, and/or transcendental, we probably cannot find\n",
    "the root analytically, and so we need to solve for it numerically.\n",
    "\n",
    "In Matlab, we can use the [`fzero()` function](https://www.mathworks.com/help/matlab/ref/fzero.html), while \n",
    "in Python we can use the [`root_scalar()` function](https://docs.scipy.org/doc/scipy/reference/generated/scipy.optimize.root_scalar.html) provided in SciPy's `optimize` module."
   ]
  },
  {
   "cell_type": "code",
   "execution_count": null,
   "metadata": {},
   "outputs": [],
   "source": []
  }
 ],
 "metadata": {
  "kernelspec": {
   "display_name": "Python 3",
   "language": "python",
   "name": "python3"
  },
  "language_info": {
   "codemirror_mode": {
    "name": "ipython",
    "version": 3
   },
   "file_extension": ".py",
   "mimetype": "text/x-python",
   "name": "python",
   "nbconvert_exporter": "python",
   "pygments_lexer": "ipython3",
   "version": "3.7.6"
  }
 },
 "nbformat": 4,
 "nbformat_minor": 4
}
