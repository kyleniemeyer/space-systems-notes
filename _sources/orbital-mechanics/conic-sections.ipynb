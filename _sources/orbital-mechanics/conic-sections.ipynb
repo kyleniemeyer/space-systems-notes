{
 "cells": [
  {
   "cell_type": "markdown",
   "metadata": {},
   "source": [
    "# Introduction to orbital mechanics: conic sections\n",
    "\n",
    "Orbital mechanics refers to the study of motion due to the gravitational influence of one mass over another.\n",
    "To start, we'll focus on unperturbed orbits mostly of satellites around Earth, meaning orbits that result \n",
    "only from the force of gravity from a larger body, and without the influence of\n",
    "- thrust forces\n",
    "- gravitational perturbations\n",
    "- irregularities in the Earth's radius\n",
    "\n",
    "To determine what orbits are possible, we need to derive the orbital equation of motion."
   ]
  },
  {
   "cell_type": "code",
   "execution_count": 1,
   "metadata": {},
   "outputs": [],
   "source": [
    "import numpy as np\n",
    "%matplotlib inline\n",
    "from matplotlib import pyplot as plt"
   ]
  },
  {
   "cell_type": "code",
   "execution_count": 2,
   "metadata": {
    "tags": [
     "hide-input"
    ]
   },
   "outputs": [],
   "source": [
    "# these lines are only for helping improve the display\n",
    "from IPython.display import set_matplotlib_formats\n",
    "set_matplotlib_formats('pdf', 'png')\n",
    "plt.rcParams['figure.dpi']= 150\n",
    "plt.rcParams['savefig.dpi'] = 150"
   ]
  },
  {
   "cell_type": "markdown",
   "metadata": {},
   "source": [
    "## Orbital equation of motion\n",
    "\n",
    "For now, we will focus on orbital problems involving two bodies (i.e., the two-body problem), with two\n",
    "different masses, usually where one is much larger than the other, such as a satellite orbiting the Earth.\n",
    "\n",
    "We will also focus on orbital motion in the two-dimensional **perifocal frame**, where all motion remains\n",
    "in the same two-dimensional plane with the two masses.\n",
    "\n",
    "$\\vec{R_1}$ and $\\vec{R_2}$ are the position vectors for masses $M_1$ and $M_2$, respectively, from some absolute\n",
    "frame of reference, and then we can define the relative position vector from $M_1$ to $M_2$ as $\\vec{r} = \\vec{R_2} - \\vec{R_1}$.\n",
    "\n",
    "These masses act on each other via the force of gravity—this is reciprocal, in that each mass acts on the other.\n",
    "Newton's gravitational law states that this force is\n",
    "\n",
    "$$\n",
    "F_{12} = G \\frac{m_1 m_2}{r^2} = -F_{21} \\;,\n",
    "$$ (newton)\n",
    "\n",
    "where $r^2 = | \\vec{r} |$ and $G = 6.674 \\cdot 10^{-11}$ m<sup>3</sup>/(kg s<sup>2</sup>), the universal gravitational constant.\n",
    "\n",
    "If we take the time derivative of $\\vec{r}$ twice, we get the acceleration vector, \n",
    "and can substitute $\\vec{F} = m \\vec{a}$ with Equation {eq}`newton`:\n",
    "\n",
    "$$\n",
    "\\begin{align}\n",
    "\\vec{\\ddot{r}} &= \\vec{\\ddot{R}}_2 - \\vec{\\ddot{R}}_1 \\\\\n",
    "\\vec{\\ddot{r}} &= -G \\left( \\frac{m_1 m_2}{r^2} \\right) \\left( \\frac{1}{m_1} + \\frac{1}{m_2} \\right) \\vec{u}_r \\;,\n",
    "\\end{align}\n",
    "$$\n",
    "\n",
    "where $\\vec{u}_r = \\frac{\\vec{r}}{|\\vec{r}|}$ is the unit direction vector.\n",
    "Since the masses involved, and gravitational constant, do not change for a given\n",
    "orbital system, we can simplify this by defining the **gravitational parameter** $\\mu$:\n",
    "\n",
    "$$\n",
    "G (m_1 + m_2) \\approx G m_1 \\equiv \\mu \\;,\n",
    "$$\n",
    "\n",
    "where $m_1$ is the mass of the central body (e.g, Earth) and $m_2$ is the mass of the orbiting body,\n",
    "and $m_2 \\ll m_1$. For a given planetary orbit, this parameter does not change, and \n",
    "for an Earth-satellite system $\\mu = 398,600 \\, \\text{km}^3/\\text{s}^2$.\n",
    "\n",
    "Then, we can express the **orbital equation of motion** as\n",
    "\n",
    "$$\n",
    "\\vec{\\ddot{r}} = -\\frac{\\mu}{r^3} \\vec{r} \\;,\n",
    "$$ (orbital_equation)\n",
    "\n",
    "where $r = |\\vec{r}| = \\sqrt{r_x^2 + r_y^2 + r_z^2}$ is the magnitude of the radial distance.\n",
    "This is a vector, nonlinear, second-order ordinary differential equation.\n",
    "We can solve this numerically by decomposing into a system of six first-order equations,\n",
    "but we can also study orbits in a two-dimensional plane."
   ]
  },
  {
   "cell_type": "markdown",
   "metadata": {},
   "source": [
    ":::{figure,myclass} fig-flightpath\n",
    "<img src=\"../images/FlightPathAngle.png\" alt=\"Flight-path angle\" class=\"bg-primary mb-1\" width=\"400px\">\n",
    "\n",
    "Position and velocity vectors of an object orbiting a central body,\n",
    "showing the flight-path angle $\\nu = \\theta$.\n",
    "Source: Åntøinæ / [CC BY-SA](https://creativecommons.org/licenses/by-sa/4.0), hosted on [Wikimedia Commons](https://commons.wikimedia.org/wiki/File:FlightPathAngle.svg).\n",
    ":::"
   ]
  },
  {
   "cell_type": "code",
   "execution_count": null,
   "metadata": {},
   "outputs": [],
   "source": []
  }
 ],
 "metadata": {
  "kernelspec": {
   "display_name": "Python 3",
   "language": "python",
   "name": "python3"
  },
  "language_info": {
   "codemirror_mode": {
    "name": "ipython",
    "version": 3
   },
   "file_extension": ".py",
   "mimetype": "text/x-python",
   "name": "python",
   "nbconvert_exporter": "python",
   "pygments_lexer": "ipython3",
   "version": "3.7.6"
  }
 },
 "nbformat": 4,
 "nbformat_minor": 4
}
