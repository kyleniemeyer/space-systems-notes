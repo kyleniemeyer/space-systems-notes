{
 "cells": [
  {
   "cell_type": "markdown",
   "metadata": {},
   "source": [
    "# Introduction to orbital mechanics: conic sections\n",
    "\n",
    "Orbital mechanics refers to the study of motion due to the gravitational influence of one mass over another.\n",
    "To start, we'll focus on unperturbed orbits mostly of satellites around Earth, meaning orbits that result \n",
    "only from the force of gravity from a larger body, and without the influence of\n",
    "- thrust forces\n",
    "- gravitational perturbations\n",
    "- irregularities in the Earth's radius\n",
    "\n",
    "To determine what orbits are possible, we need to derive the orbital equation of motion."
   ]
  },
  {
   "cell_type": "code",
   "execution_count": 3,
   "metadata": {},
   "outputs": [],
   "source": [
    "import numpy as np\n",
    "%matplotlib inline\n",
    "from matplotlib import pyplot as plt"
   ]
  },
  {
   "cell_type": "code",
   "execution_count": 6,
   "metadata": {
    "tags": [
     "hide-input"
    ]
   },
   "outputs": [],
   "source": [
    "# these lines are only for helping improve the display\n",
    "from IPython.display import set_matplotlib_formats\n",
    "set_matplotlib_formats('pdf', 'png')\n",
    "plt.rcParams['figure.dpi']= 150\n",
    "plt.rcParams['savefig.dpi'] = 150"
   ]
  },
  {
   "cell_type": "markdown",
   "metadata": {},
   "source": [
    "## Orbital equation of motion\n",
    "\n",
    "For now, we will focus on orbital problems involving two bodies (i.e., the two-body problem), with two\n",
    "different masses, usually where one is much larger than the other, such as a satellite orbiting the Earth.\n",
    "\n",
    "We will also focus on orbital motion in the two-dimensional **perifocal frame**, where all motion remains\n",
    "in the same two-dimensional plane with the two masses.\n",
    "\n",
    "$\\vec{R_1}$ and $\\vec{R_2}$ are the position vectors for masses $M_1$ and $M_2$, respectively, from some absolute\n",
    "frame of reference, and then we can define the relative position vector from $M_1$ to $M_2$ as $\\vec{r} = \\vec{R_2} - \\vec{R_1}$.\n",
    "\n",
    "These masses act on each other via the force of gravity—this is reciprocal, in that each mass acts on the other.\n",
    "Newton's gravitational law states that this force is\n",
    "\n",
    "$$\n",
    "F_{12} = G \\frac{m_1 m_2}{r^2} = -F_{21} \\;,\n",
    "$$\n",
    "\n",
    "where $r^2 = | \\vec{r} |$ and $G = 6.674 \\cdot 10^{-11}$ m<sup>3</sup>/(kg s<sup>2</sup>), the universal gravitational constant."
   ]
  },
  {
   "cell_type": "code",
   "execution_count": null,
   "metadata": {},
   "outputs": [],
   "source": []
  }
 ],
 "metadata": {
  "kernelspec": {
   "display_name": "Python 3",
   "language": "python",
   "name": "python3"
  },
  "language_info": {
   "codemirror_mode": {
    "name": "ipython",
    "version": 3
   },
   "file_extension": ".py",
   "mimetype": "text/x-python",
   "name": "python",
   "nbconvert_exporter": "python",
   "pygments_lexer": "ipython3",
   "version": "3.7.6"
  }
 },
 "nbformat": 4,
 "nbformat_minor": 4
}
