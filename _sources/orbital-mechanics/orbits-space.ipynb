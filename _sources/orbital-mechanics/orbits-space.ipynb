{
 "cells": [
  {
   "cell_type": "markdown",
   "metadata": {},
   "source": [
    "# Orbits in space\n",
    "\n",
    "Now that we know how to describe orbits in the perifocal frame, we need will look at how to move from this frame of reference to a more-general location in space.\n",
    "\n",
    "This module will cover:\n",
    "- Geocentric equatorial frame\n",
    "- Orbital elements\n",
    "- Gibbs problem\n",
    "- Gauss problem/Lambert theorem"
   ]
  },
  {
   "cell_type": "code",
   "execution_count": 2,
   "metadata": {},
   "outputs": [],
   "source": [
    "import numpy as np\n",
    "%matplotlib inline\n",
    "from matplotlib import pyplot as plt"
   ]
  },
  {
   "cell_type": "markdown",
   "metadata": {},
   "source": [
    "## Geocentric equatorial frame\n",
    "\n",
    "In the geocentric equatorial frame, the Earth lies at the center and spins,\n",
    "where the $X-Y$ plane aligns with the equatorial plane of the planet and\n",
    "the planet's axis of rotation points in the $Z$ direction of the frame.\n",
    "\n",
    "Note that this frame does not align with the plane of the ecliptic (the solar plane),\n",
    "since the Earth's axis is tilted 23.44°.\n",
    "\n",
    ":::{figure,myclass} fig-gef\n",
    "<img src=\"../images/geocentric_equatorial.png\" alt=\"Depiction of geocentric equatorial frame\" class=\"bg-white mb-1\" width=\"300px\">\n",
    "\n",
    "Diagram of geocentric equatorial frame. \n",
    "Original source by [Tfr000](https://en.wikipedia.org/wiki/File:Ra_and_dec_rectangular.png),\n",
    "shared under [CC BY-SA](https://creativecommons.org/licenses/by-sa/3.0/deed.en)\n",
    ":::\n",
    "\n",
    "The $X$ axis of the geocentric equatorial frame always points in the same direction,\n",
    "towards the vernal equinox. This direction is also referred to as the first point\n",
    "in Aries, or with &#x2648;, since this pointed to the constellation Aries back\n",
    "when the Greeks came up with the idea. However, due to the precession of the Earth's tilt,\n",
    "the direction changes over time, and it now points towards Pisces. In the year 2600,\n",
    "the vernal equinox will point towards Aquarius.\n",
    "\n",
    "Due to this precession, for precise orbital determinations we need to specify the\n",
    "direction of $X$ via the appropriate 50-year **epoch**. We are currently in the \n",
    "2000 epoch, but in 2025 we will pass into the 2050 epoch.\n",
    "\n",
    "For an object in space, we can specify its position in the geocentric equatorial\n",
    "frame via its distance from the center ($r$), the angle away from the $X$ direction \n",
    "in the equatorial plane is the right ascension ($\\alpha$), and the angle above\n",
    "the plane is the declination ($\\delta$)."
   ]
  },
  {
   "cell_type": "markdown",
   "metadata": {},
   "source": [
    "## Orbital elements\n",
    "\n",
    "In the perifocal frame, we can specify an object in orbit using the eccentricity $e$,\n",
    "the specific angular momentum $h$, and the true anomaly $\\theta$.\n",
    "To specify the orientation of this plane in the geocentric equatorial frame,\n",
    "we need three additional quantities.\n",
    "\n",
    ":::{figure,myclass} fig-orbital-elements\n",
    "<img src=\"../images/orbital_elements.*\" alt=\"Diagram with classical orbital elements\" class=\"bg-white mb-1\" width=\"400px\">\n",
    "\n",
    "Diagram showing the orbital elements. \n",
    "Note that this uses $\\nu$ for true anomaly, while we usually use $\\theta$ here.\n",
    "Source: [Lasunncty](https://commons.wikimedia.org/wiki/File:Orbit1.svg) at the English Wikipedia / [CC BY-SA](http://creativecommons.org/licenses/by-sa/3.0/)\n",
    ":::\n",
    "\n",
    "The additional three quantities needed are the:\n",
    "* right ascension $\\Omega$, which is the angle between the reference direction $\\vec{X}$, or &#x2648;, and the direction of the line of the ascending node $\\vec{N}$;\n",
    "* inclination $i$, the angle of the perifocal frame away from the reference plane; and\n",
    "* argument of periapse/perigee $\\omega$, the angle between the line of ascending node and direction of periapse $\\vec{e}$.\n",
    "\n",
    "The orbit is prograde if $i <$ 90°, and retrograde if $i >$ 90°.\n",
    "\n",
    "Now, we have the six **orbital elements** needed to uniquely specify an orbit in a two-body system: $h, e, \\theta, \\Omega, i, \\omega$."
   ]
  },
  {
   "cell_type": "code",
   "execution_count": null,
   "metadata": {},
   "outputs": [],
   "source": []
  }
 ],
 "metadata": {
  "kernelspec": {
   "display_name": "Python 3",
   "language": "python",
   "name": "python3"
  },
  "language_info": {
   "codemirror_mode": {
    "name": "ipython",
    "version": 3
   },
   "file_extension": ".py",
   "mimetype": "text/x-python",
   "name": "python",
   "nbconvert_exporter": "python",
   "pygments_lexer": "ipython3",
   "version": "3.7.6"
  }
 },
 "nbformat": 4,
 "nbformat_minor": 4
}
