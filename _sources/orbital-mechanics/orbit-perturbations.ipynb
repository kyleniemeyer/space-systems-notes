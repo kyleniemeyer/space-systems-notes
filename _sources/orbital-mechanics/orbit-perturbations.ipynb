{
 "cells": [
  {
   "cell_type": "markdown",
   "metadata": {},
   "source": [
    "# Orbit Perturbations\n",
    "\n",
    "$$\n",
    "\\vec{\\ddot{r}} = -\\frac{\\mu}{r^3} \\vec{r} + \\vec{a}_p \\;,\n",
    "$$\n",
    "\n",
    "where $\\vec{a}_p$ is the acceleration due to perturbations from thrust, \n",
    "atmospheric drag, gravitational perturbations, or any other force."
   ]
  },
  {
   "cell_type": "markdown",
   "metadata": {},
   "source": [
    "## Atmospheric drag"
   ]
  },
  {
   "cell_type": "markdown",
   "metadata": {},
   "source": [
    "## Gravitational perturbations\n",
    "\n",
    "The rotationally symmetric perturbation $\\Phi (r, \\phi)$ is\n",
    "\n",
    "$$\n",
    "\\Phi (r, \\phi) = \\frac{\\mu}{r} \\sum_{k=2}^{\\infty} J_k \\left( \\frac{R}{r} \\right)^k P_k (\\cos \\phi) \\;,\n",
    "$$\n",
    "\n",
    "where $J_k$ are the zonal harmonics of the planet, $R$ is the equatoriall radius ($R/r < 1$), and $P_k$ are Legendre polynomials of order $k$.\n",
    "\n",
    "For the Earth, the six zonal harmonics are:\n",
    "\n",
    "$$\n",
    "\\begin{align}\n",
    "J_2 &= 0.00108263 \\\\\n",
    "J_3 &= -2.33936 \\times 10^{-3} J_2 \\\\\n",
    "J_4 &= -1.49601 \\times 10^{-3} J_2 \\\\\n",
    "J_5 &= -0.20995 \\times 10^{-3} J_2 \\\\\n",
    "J_6 &= 0.49941 \\times 10^{-3} J_2 \\\\\n",
    "J_7 &= 0.32547 \\times 10^{-3} J_2\n",
    "\\end{align}\n",
    "$$\n",
    "\n",
    "The perturbing acceleration is $\\vec{a}_P = - \\nabla \\Phi$.\n",
    "\n",
    "The gravitational perturbation due to $J_2$ is\n",
    "\n",
    "$$\n",
    "\\vec{a}_P = \\frac{3}{2} \\frac{J_2 \\mu R^2}{r^4} \\left[ \\frac{x}{r} \\left( 5 \\frac{z^2}{r^2} - 1 \\right) \\hat{I} + \\frac{y}{r} \\left( 5 \\frac{z^2}{r^2} - 1 \\right) \\hat{J} + \\frac{z}{r} \\left( 5 \\frac{z^2}{r^2} - 3 \\right) \\hat{K} \\right]\n",
    "$$\n",
    "\n",
    "The gravitational perturbation due to $J_3$ is\n",
    "\n",
    "$$\n",
    "\\vec{a}_P = \\frac{1}{2} \\frac{J_3 \\mu R^3}{r^5} \\left[ 5 \\frac{x}{r} \\left( 7 \\frac{z^3}{r^3} - 3 \\frac{z}{r} \\right) \\hat{I} + 5 \\frac{y}{r} \\left( 7 \\frac{z^3}{r^3} - 3 \\frac{z}{r} \\right) \\hat{J} + \\left( 35 \\frac{z^4}{r^4} - 30 \\frac{z^2}{r^2} + 3 \\right) \\hat{K} \\right]\n",
    "$$\n",
    "\n",
    "Then, solving the equation of motion yields the perturbed orbit:\n",
    "\n",
    "$$\n",
    "\\vec{\\ddot{r}} = -\\frac{\\mu}{r^3} \\vec{r} + \\vec{a}_P\n",
    "$$"
   ]
  }
 ],
 "metadata": {
  "kernelspec": {
   "display_name": "Python 3",
   "language": "python",
   "name": "python3"
  },
  "language_info": {
   "codemirror_mode": {
    "name": "ipython",
    "version": 3
   },
   "file_extension": ".py",
   "mimetype": "text/x-python",
   "name": "python",
   "nbconvert_exporter": "python",
   "pygments_lexer": "ipython3",
   "version": "3.7.6"
  }
 },
 "nbformat": 4,
 "nbformat_minor": 4
}
