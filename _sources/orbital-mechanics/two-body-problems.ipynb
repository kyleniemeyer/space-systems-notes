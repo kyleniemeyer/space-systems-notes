{
 "cells": [
  {
   "cell_type": "markdown",
   "metadata": {},
   "source": [
    "# Two-body problems\n",
    "\n",
    "This module covers solution methods for two-body problems in the **perifocal frame**: \n",
    "given some information about an orbit, how can we find the new position and velocity\n",
    "after some change in true anomaly or after some time?\n",
    "\n",
    "This will cover two-body problem solutions using Lagrange coefficients,\n",
    "Kepler problems (involving time), the Kepler problem with universal variables,\n",
    "and solving the orbital equation of motion numerically from initial conditions."
   ]
  },
  {
   "cell_type": "code",
   "execution_count": 2,
   "metadata": {},
   "outputs": [],
   "source": [
    "import numpy as np\n",
    "%matplotlib inline\n",
    "from matplotlib import pyplot as plt"
   ]
  },
  {
   "cell_type": "code",
   "execution_count": 3,
   "metadata": {
    "tags": [
     "hide-input"
    ]
   },
   "outputs": [],
   "source": [
    "# these lines are only for helping improve the display\n",
    "from IPython.display import set_matplotlib_formats\n",
    "set_matplotlib_formats('pdf', 'png')\n",
    "plt.rcParams['figure.dpi']= 150\n",
    "plt.rcParams['savefig.dpi'] = 150"
   ]
  },
  {
   "cell_type": "markdown",
   "metadata": {},
   "source": [
    "## Two-body problems in perifocal frame\n",
    "\n",
    "**The problem:** given the initial position vector $\\vec{r}_0$ and initial velocity vector $\\vec{v}_0$ (the state vectors), \n",
    "known at some instant in time, find the new state vectors $\\vec{r}$ and $\\vec{v}$ after the true anomaly changes by $\\Delta \\theta$.\n",
    "\n",
    ":::{figure,myclass} fig-twobody\n",
    "<img src=\"../images/two-body-problem.png\" alt=\"Two-body problem diagram\" class=\"bg-primary mb-1\" width=\"400px\">\n",
    "\n",
    "Diagram of two-body problem with state vectors.\n",
    ":::\n",
    "\n",
    "Since the state vectors $\\vec{r}$ and $\\vec{v}$ will always remain in the same two-dimensional plane, \n",
    "they must be able to be expressed as linear combinations of\n",
    "$\\vec{r}_0$ and $\\vec{v}_0$:\n",
    "\n",
    "$$\n",
    "\\begin{align}\n",
    "\\vec{r} &= f \\vec{r}_0 + g \\vec{v}_0 \\\\\n",
    "\\vec{v} &= \\dot{f} \\vec{r}_0 + \\dot{g} \\vec{v}_0 \\;,\n",
    "\\end{align}\n",
    "$$\n",
    "\n",
    "where $f, g, \\dot{f}, \\dot{g}$ are the **Lagrange coefficients**, which are constant scalars.\n",
    "\n",
    "Note that by substituting these into the definition of specific angular momentum $\\vec{h}$, \n",
    "which must remain constant, we can obtain the **Lagrange identity**:\n",
    "\n",
    "$$\n",
    "\\begin{align}\n",
    "\\vec{h} = \\vec{r}_0 \\times \\vec{v}_0 &= \\vec{r} \\times \\vec{v} \\\\\n",
    "&= \\left( f \\vec{r}_0 + g \\vec{v}_0 \\right) \\times \\left( \\dot{f} \\vec{r}_0 + \\dot{g} \\vec{v}_0 \\right) \\\\\n",
    "&= f \\dot{f} \\vec{r}_0 \\times \\vec{r}_0 + f \\dot{g} \\vec{r}_0 \\times \\vec{v}_0 + g \\dot{f} \\vec{v}_0 \\times \\vec{r}_0 + g \\dot{g} \\vec{v}_0 \\times \\vec{v}_0 \\\\\n",
    "&= f \\dot{g} \\vec{r}_0 \\times \\vec{v}_0 + g \\dot{f} \\vec{v}_0 \\times \\vec{r}_0 \\\\\n",
    "&= f \\dot{g} \\vec{r}_0 \\times \\vec{v}_0 - g \\dot{f} \\vec{r}_0 \\times \\vec{v}_0 \\\\\n",
    "\\vec{r}_0 \\times \\vec{v}_0 &= \\left( f \\dot{g} - g \\dot{f} \\right) \\vec{r}_0 \\times \\vec{v}_0 \\\\\n",
    "\\therefore f \\dot{g} - g \\dot{f} &= 1 \\;,\n",
    "\\end{align}\n",
    "$$\n",
    "\n",
    "which provides a potentially helpful relationship between the coefficients—given three of them, you can easily find the fourth.\n",
    "\n",
    "### Lagrange coefficients\n",
    "\n",
    "Via a complicated derivation, we can find closed-form expressions for the Lagrange coefficients:\n",
    "\n",
    "$$\n",
    "\\begin{align}\n",
    "f &= 1 - \\frac{\\mu r}{h^2} \\left( 1 - \\cos \\Delta \\theta \\right) \\\\\n",
    "g &= \\frac{r r_0}{h} \\sin \\Delta \\theta \\\\\n",
    "\\dot{f} &= \\frac{\\mu}{h} \\frac{1 - \\cos \\Delta \\theta}{\\sin \\Delta \\theta} \\left[ \\frac{\\mu}{h^2} \\left( 1 - \\cos \\Delta \\theta \\right) - \\frac{1}{r_0} - \\frac{1}{r} \\right] \\\\\n",
    "\\dot{g} &= 1 - \\frac{\\mu r_0}{h^2} \\left( 1 - \\cos \\Delta \\theta \\right) \\;,\n",
    "\\end{align}\n",
    "$$\n",
    "\n",
    "where $r_0 = |\\vec{r}_0| = \\sqrt{\\vec{r}_0 \\cdot \\vec{r}_0}$ is the magnitude of the initial position vector,\n",
    "$v_0 = |\\vec{v}_0| = \\sqrt{\\vec{v}_0 \\cdot \\vec{v}_0}$ is the magnitude of the initial velocity vector,\n",
    "$v_{r0} = \\vec{r}_0 \\cdot \\vec{v}_0 / r_0$ is the radial component of the initial velocity vector (the projection along the apse line),\n",
    "$h = |\\vec{h}|$ is the magnitude of the specific angular momentum,\n",
    "and the new radial distance is\n",
    "\n",
    "$$\n",
    "r = \\frac{h^2}{\\mu} \\frac{1}{1 + \\left( \\frac{h^2}{\\mu r_0} - 1 \\right) \\cos \\Delta \\theta - \\frac{h v_{r0}}{\\mu} \\sin \\Delta \\theta} \\;.\n",
    "$$\n",
    "\n",
    "```{note}\n",
    "While examples may show elliptical orbits, this approach applies regardless of orbit.\n",
    "```\n",
    "\n",
    "With these equations, we can now solve the problem."
   ]
  },
  {
   "cell_type": "markdown",
   "metadata": {},
   "source": [
    "## Example workflow\n",
    "\n",
    "The workflow for solving a problem follows these steps:\n",
    "\n",
    "1. Calculate the magnitudes and necessary quantities: "
   ]
  },
  {
   "cell_type": "code",
   "execution_count": null,
   "metadata": {},
   "outputs": [],
   "source": []
  }
 ],
 "metadata": {
  "kernelspec": {
   "display_name": "Python 3",
   "language": "python",
   "name": "python3"
  },
  "language_info": {
   "codemirror_mode": {
    "name": "ipython",
    "version": 3
   },
   "file_extension": ".py",
   "mimetype": "text/x-python",
   "name": "python",
   "nbconvert_exporter": "python",
   "pygments_lexer": "ipython3",
   "version": "3.7.6"
  }
 },
 "nbformat": 4,
 "nbformat_minor": 4
}
