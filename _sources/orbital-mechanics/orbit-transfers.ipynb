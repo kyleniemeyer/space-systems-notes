{
 "cells": [
  {
   "cell_type": "markdown",
   "metadata": {},
   "source": [
    "# Orbit transfers\n",
    "\n"
   ]
  },
  {
   "cell_type": "markdown",
   "metadata": {},
   "source": [
    "## Hohmann transfer\n",
    "\n",
    "The Hohmann transfer orbit offers a solution to transferring between two circular orbits, via an elliptic transfer orbit,\n",
    "using the least possible velocity change ($\\Delta v$). It was first recognized/demonstrated by Hohmann in 1925, \n",
    "before the rocket technology to achieve any orbit existed!\n",
    "\n",
    "A typical use of the Hohmann transfer is to start at a lower-altitude circular \"parking orbit\", then use \n",
    "the elliptical transfer orbit to reach a higher-altitude circular orbit. This involves two instantaneous\n",
    "changes in velocity ($\\Delta v$), one at the perigee of the elliptical orbit and one at the apogee (the \"apogee kick\").\n",
    "\n",
    ":::{figure,myclass} fig-hohmann\n",
    "<img src=\"../images/Hohmann_transfer_orbit.*\" alt=\"Illustration of a Hohmann transfer orbit\" class=\"bg-white mb-1\" width=\"400px\">\n",
    "\n",
    "Illustration of a Hohmann transfer orbit, from a smaller circular orbit to a larger circular orbit.\n",
    "Source: [Leafnode](https://upload.wikimedia.org/wikipedia/commons/d/df/Hohmann_transfer_orbit.svg), [CC BY-SA 2.5](https://creativecommons.org/licenses/by-sa/2.5) via Wikimedia Commons.\n",
    ":::\n",
    "\n",
    "**The problem:** Given the original orbit's perigee and apogee distances ($r_{p1}$ and $r_{a1}$), \n",
    "and the apogee distance of the desired elliptical orbit (which also may be the radius of the final circular orbit),\n",
    "find the required instantaneous change in velocity $\\Delta v$ to enter the elliptical orbit."
   ]
  },
  {
   "cell_type": "code",
   "execution_count": null,
   "metadata": {},
   "outputs": [],
   "source": []
  }
 ],
 "metadata": {
  "kernelspec": {
   "display_name": "Python 3",
   "language": "python",
   "name": "python3"
  },
  "language_info": {
   "codemirror_mode": {
    "name": "ipython",
    "version": 3
   },
   "file_extension": ".py",
   "mimetype": "text/x-python",
   "name": "python",
   "nbconvert_exporter": "python",
   "pygments_lexer": "ipython3",
   "version": "3.7.6"
  }
 },
 "nbformat": 4,
 "nbformat_minor": 4
}
