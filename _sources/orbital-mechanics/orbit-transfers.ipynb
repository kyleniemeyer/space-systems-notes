{
 "cells": [
  {
   "cell_type": "markdown",
   "metadata": {},
   "source": [
    "# Orbit transfers\n",
    "\n"
   ]
  },
  {
   "cell_type": "markdown",
   "metadata": {},
   "source": [
    "## Hohmann transfer\n",
    "\n",
    "The Hohmann transfer orbit offers a solution to transferring between two circular orbits, via an elliptic transfer orbit,\n",
    "using the least possible velocity change ($\\Delta v$). It was first recognized/demonstrated by Hohmann in 1925, \n",
    "before the rocket technology to achieve any orbit existed!\n",
    "\n",
    "A typical use of the Hohmann transfer is to start at a lower-altitude circular \"parking orbit\", then use \n",
    "the elliptical transfer orbit to reach a higher-altitude circular orbit. This involves two instantaneous\n",
    "changes in velocity ($\\Delta v$), one at the perigee of the elliptical orbit and one at the apogee (the \"apogee kick\").\n",
    "\n",
    ":::{figure,myclass} fig-hohmann\n",
    "<img src=\"../images/Hohmann_transfer_orbit.*\" alt=\"Illustration of a Hohmann transfer orbit\" class=\"bg-white mb-1\" width=\"400px\">\n",
    "\n",
    "Illustration of a Hohmann transfer orbit, from a smaller circular orbit to a larger circular orbit.\n",
    "Source: [Leafnode](https://upload.wikimedia.org/wikipedia/commons/d/df/Hohmann_transfer_orbit.svg), [CC BY-SA 2.5](https://creativecommons.org/licenses/by-sa/2.5) via Wikimedia Commons.\n",
    ":::\n",
    "\n",
    "**The problem:** Given the original orbit's perigee and apogee distances ($r_{p1}$ and $r_{a1}$), \n",
    "and the apogee distance of the desired elliptical orbit (which also may be the radius of the final circular orbit) $r_{a2}$,\n",
    "find the required instantaneous change in velocity $\\Delta v$ to enter the elliptical orbit.\n",
    "\n",
    "The change in velocity needed is the difference in perigee velocities of the two\n",
    "orbits. For orbit 1:\n",
    "\n",
    "$$\n",
    "\\begin{align}\n",
    "e_1 &= \\frac{r_{a1} - r_{p1}}{r_{a1} + r_{p1}} \\\\\n",
    "r_{p1} &= \\frac{h_1^2 / \\mu}{1 + e_1} \\\\\n",
    "\\rightarrow h_1 &= \\sqrt{2 \\mu} \\sqrt{\\frac{r_{p1} r_{a1}}{r_{p1} + r_{a1}}} \\\\\n",
    "v_{p1} &= \\frac{h_1}{r_{p1}} \\;,\n",
    "\\end{align}\n",
    "$$\n",
    "\n",
    "where $v_{p1}$ is the velocity of orbit 1 at its perigee.\n",
    "\n",
    "Similarly, for orbit 2:\n",
    "\n",
    "$$\n",
    "\\begin{align}\n",
    "h_2 &= \\sqrt{2 \\mu} \\sqrt{\\frac{r_{p2} r_{a2}}{r_{p1} + r_{a2}}} \\\\\n",
    "v_{p2} &= \\frac{h_2}{r_{p2}} \\;,\n",
    "\\end{align}\n",
    "$$\n",
    "\n",
    "where $r_{p2} = r_{p1}$ is the perigee distance, shared between the orbits.\n",
    "Then, the instantaneous velocity change needed is\n",
    "\n",
    "$$\n",
    "\\Delta v = v_{p2} - v_{p1} \\;.\n",
    "$$\n",
    "\n",
    "Orbit 2 may be an elliptical transfer orbit, used to reach a higher circular orbit via\n",
    "an \"apogee kick\", which is a second velocity change at the apogee of the elliptical orbit.\n",
    "We can determine the velocity change needed to enter a circular orbit with a radius \n",
    "matching $r_{a2}$:\n",
    "\n",
    "$$\n",
    "\\begin{align}\n",
    "h_3 &= \\sqrt{2 \\mu} \\sqrt{\\frac{r_{a2} r_{a2}}{r_{a2} + r_{a2}}} = \\sqrt{\\mu r_{a2}} \\\\\n",
    "v_{3} &= \\frac{h_3}{r_{a2}} \\;, \\\\\n",
    "\\Delta v &= v_3 - v_{a2}\n",
    "\\end{align}\n",
    "$$"
   ]
  },
  {
   "cell_type": "markdown",
   "metadata": {},
   "source": [
    "## Apse line rotation"
   ]
  },
  {
   "cell_type": "code",
   "execution_count": null,
   "metadata": {},
   "outputs": [],
   "source": []
  }
 ],
 "metadata": {
  "kernelspec": {
   "display_name": "Python 3",
   "language": "python",
   "name": "python3"
  },
  "language_info": {
   "codemirror_mode": {
    "name": "ipython",
    "version": 3
   },
   "file_extension": ".py",
   "mimetype": "text/x-python",
   "name": "python",
   "nbconvert_exporter": "python",
   "pygments_lexer": "ipython3",
   "version": "3.7.6"
  }
 },
 "nbformat": 4,
 "nbformat_minor": 4
}
